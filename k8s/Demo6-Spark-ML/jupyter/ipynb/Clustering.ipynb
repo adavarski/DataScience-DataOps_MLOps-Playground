{
 "cells": [
  {
   "cell_type": "code",
   "execution_count": 1,
   "metadata": {},
   "outputs": [],
   "source": [
    "from pyspark.sql import SparkSession\n",
    "spark=SparkSession.builder.appName('K_means').getOrCreate()"
   ]
  },
  {
   "cell_type": "code",
   "execution_count": 2,
   "metadata": {},
   "outputs": [],
   "source": [
    "df=spark.read.csv('iris_dataset.csv',inferSchema=True,header=True)\n"
   ]
  },
  {
   "cell_type": "code",
   "execution_count": 3,
   "metadata": {},
   "outputs": [
    {
     "name": "stdout",
     "output_type": "stream",
     "text": [
      "(150, 5)\n"
     ]
    }
   ],
   "source": [
    "print((df.count(), len(df.columns)))\n"
   ]
  },
  {
   "cell_type": "code",
   "execution_count": 4,
   "metadata": {},
   "outputs": [
    {
     "name": "stdout",
     "output_type": "stream",
     "text": [
      "root\n",
      " |-- sepal_length: double (nullable = true)\n",
      " |-- sepal_width: double (nullable = true)\n",
      " |-- petal_length: double (nullable = true)\n",
      " |-- petal_width: double (nullable = true)\n",
      " |-- species: string (nullable = true)\n",
      "\n"
     ]
    }
   ],
   "source": [
    "df.printSchema()\n"
   ]
  },
  {
   "cell_type": "code",
   "execution_count": 5,
   "metadata": {},
   "outputs": [
    {
     "name": "stdout",
     "output_type": "stream",
     "text": [
      "+------------+-----------+------------+-----------+----------+\n",
      "|sepal_length|sepal_width|petal_length|petal_width|species   |\n",
      "+------------+-----------+------------+-----------+----------+\n",
      "|6.0         |2.7        |5.1         |1.6        |versicolor|\n",
      "|6.3         |3.3        |4.7         |1.6        |versicolor|\n",
      "|5.1         |3.5        |1.4         |0.3        |setosa    |\n",
      "|5.2         |4.1        |1.5         |0.1        |setosa    |\n",
      "|6.7         |3.3        |5.7         |2.5        |virginica |\n",
      "|7.7         |3.8        |6.7         |2.2        |virginica |\n",
      "|7.7         |3.0        |6.1         |2.3        |virginica |\n",
      "|7.2         |3.6        |6.1         |2.5        |virginica |\n",
      "|5.4         |3.9        |1.3         |0.4        |setosa    |\n",
      "|4.9         |2.4        |3.3         |1.0        |versicolor|\n",
      "+------------+-----------+------------+-----------+----------+\n",
      "only showing top 10 rows\n",
      "\n",
      "+----------+-----+\n",
      "|species   |count|\n",
      "+----------+-----+\n",
      "|virginica |50   |\n",
      "|versicolor|50   |\n",
      "|setosa    |50   |\n",
      "+----------+-----+\n",
      "\n"
     ]
    }
   ],
   "source": [
    "from pyspark.sql.functions import rand\n",
    "df.orderBy(rand()).show(10,False)\n",
    "df.groupBy('species').count().orderBy('count').show(10,False)"
   ]
  },
  {
   "cell_type": "code",
   "execution_count": 6,
   "metadata": {},
   "outputs": [],
   "source": [
    "from pyspark.ml.linalg import Vector\n",
    "from pyspark.ml.feature import VectorAssembler\n",
    "input_cols=['sepal_length', 'sepal_width', 'petal_length', 'petal_width']\n",
    "vec_assembler = VectorAssembler(inputCols = input_cols,outputCol='features')\n",
    "final_data = vec_assembler.transform(df)"
   ]
  },
  {
   "cell_type": "code",
   "execution_count": 16,
   "metadata": {},
   "outputs": [],
   "source": [
    "from pyspark.ml.clustering import KMeans\n",
    "errors=[]\n",
    "for k in range(2,10):\n",
    "    kmeans = KMeans(featuresCol='features',k=k)\n",
    "    model = kmeans.fit(final_data)"
   ]
  },
  {
   "cell_type": "code",
   "execution_count": 17,
   "metadata": {},
   "outputs": [
    {
     "name": "stdout",
     "output_type": "stream",
     "text": [
      "+----------+-----+\n",
      "|prediction|count|\n",
      "+----------+-----+\n",
      "|         1|   38|\n",
      "|         2|   62|\n",
      "|         0|   50|\n",
      "+----------+-----+\n",
      "\n"
     ]
    }
   ],
   "source": [
    "kmeans = KMeans(featuresCol='features',k=3)\n",
    "model = kmeans.fit(final_data)\n",
    "model.transform(final_data).groupBy('prediction').count().show()\n"
   ]
  },
  {
   "cell_type": "code",
   "execution_count": 18,
   "metadata": {},
   "outputs": [
    {
     "name": "stdout",
     "output_type": "stream",
     "text": [
      "+----------+----------+-----+\n",
      "|   species|prediction|count|\n",
      "+----------+----------+-----+\n",
      "| virginica|         2|   14|\n",
      "|    setosa|         0|   50|\n",
      "| virginica|         1|   36|\n",
      "|versicolor|         1|    2|\n",
      "|versicolor|         2|   48|\n",
      "+----------+----------+-----+\n",
      "\n"
     ]
    }
   ],
   "source": [
    "predictions=model.transform(final_data)\n",
    "predictions.groupBy('species','prediction').count().show()"
   ]
  },
  {
   "cell_type": "code",
   "execution_count": 19,
   "metadata": {},
   "outputs": [],
   "source": [
    "import pandas as pd\n",
    "import numpy as np\n",
    "import matplotlib.pyplot as plt"
   ]
  },
  {
   "cell_type": "code",
   "execution_count": null,
   "metadata": {},
   "outputs": [],
   "source": []
  }
 ],
 "metadata": {
  "kernelspec": {
   "display_name": "Python 3",
   "language": "python",
   "name": "python3"
  },
  "language_info": {
   "codemirror_mode": {
    "name": "ipython",
    "version": 3
   },
   "file_extension": ".py",
   "mimetype": "text/x-python",
   "name": "python",
   "nbconvert_exporter": "python",
   "pygments_lexer": "ipython3",
   "version": "3.8.5"
  }
 },
 "nbformat": 4,
 "nbformat_minor": 4
}
